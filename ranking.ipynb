{
 "cells": [
  {
   "cell_type": "code",
   "execution_count": 8,
   "metadata": {},
   "outputs": [
    {
     "name": "stdout",
     "output_type": "stream",
     "text": [
      "Rank the 'Score' column handling ties (equal values) using different methods\n",
      "DataFrame after sorting by 'Score' using sort_values():\n",
      "      Name  Score  Rank_min  Rank_max  Rank_avg  Rank_dense  Rank_desc  \\\n",
      "2  Charlie     92       4.0       5.0       4.5         4.0        1.5   \n",
      "4      Eva     92       4.0       5.0       4.5         4.0        1.5   \n",
      "0    Alice     85       3.0       3.0       3.0         3.0        3.0   \n",
      "3    David     78       2.0       2.0       2.0         2.0        4.0   \n",
      "1      Bob     70       1.0       1.0       1.0         1.0        5.0   \n",
      "\n",
      "   Rank_FIFO  \n",
      "2        4.0  \n",
      "4        5.0  \n",
      "0        3.0  \n",
      "3        2.0  \n",
      "1        1.0  \n"
     ]
    }
   ],
   "source": [
    "import pandas as pd\n",
    "\n",
    "# Creating a sample DataFrame\n",
    "data = {\n",
    "    'Name': ['Alice', 'Bob', 'Charlie', 'David', 'Eva'],\n",
    "    'Score': [85, 70, 92, 78, 92]\n",
    "}\n",
    "\n",
    "df = pd.DataFrame(data)\n",
    "\n",
    "\n",
    "# Rank the 'Score' column handling ties using different methods\n",
    "print(\"Rank the 'Score' column handling ties (equal values) using different methods\")\n",
    "df['Rank_min'] = df['Score'].rank(method='min')\n",
    "df['Rank_max'] = df['Score'].rank(method='max')\n",
    "df['Rank_avg'] = df['Score'].rank(method='average')\n",
    "df['Rank_dense'] = df['Score'].rank(method='dense')\n",
    "# Rank the 'Score' column in descending order\n",
    "df['Rank_desc'] = df['Score'].rank(ascending=False)\n",
    "# Customizing tie-breaking by specifying ascending order within ties\n",
    "df['Rank_FIFO'] = df['Score'].rank(method='first', ascending=True)\n",
    "\n",
    "\n",
    "\n",
    "# Sort DataFrame by 'Score'\n",
    "# Sure, rank in a way sorts the data, but it just adds a column according to their values, it doesn't do the actual sorting\n",
    "sorted_df = df.sort_values(by='Score', ascending=False)\n",
    "\n",
    "print(\"DataFrame after sorting by 'Score' using sort_values():\")\n",
    "print(sorted_df)"
   ]
  }
 ],
 "metadata": {
  "kernelspec": {
   "display_name": "base",
   "language": "python",
   "name": "python3"
  },
  "language_info": {
   "codemirror_mode": {
    "name": "ipython",
    "version": 3
   },
   "file_extension": ".py",
   "mimetype": "text/x-python",
   "name": "python",
   "nbconvert_exporter": "python",
   "pygments_lexer": "ipython3",
   "version": "3.11.4"
  }
 },
 "nbformat": 4,
 "nbformat_minor": 2
}
