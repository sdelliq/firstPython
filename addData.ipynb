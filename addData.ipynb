{
 "cells": [
  {
   "cell_type": "markdown",
   "metadata": {},
   "source": [
    "Extra comment: rolling() in pandas is like lag()\n",
    "\n",
    ">>> ( snow rolling (5) mean () ) <- book example\n"
   ]
  },
  {
   "cell_type": "code",
   "execution_count": null,
   "metadata": {},
   "outputs": [],
   "source": [
    "#df.column.fillna(0) #fills with 0"
   ]
  },
  {
   "cell_type": "markdown",
   "metadata": {},
   "source": [
    "There's a method called interpolate() that adds data, by default using linear interpolation. But there are many other methods that are possible"
   ]
  },
  {
   "cell_type": "code",
   "execution_count": 7,
   "metadata": {},
   "outputs": [
    {
     "name": "stdout",
     "output_type": "stream",
     "text": [
      "Interpolated DataFrame using 'linear' method:\n",
      "      A     B\n",
      "0  52.0  60.0\n",
      "1  33.5  41.0\n",
      "2  15.0  29.0\n",
      "\n",
      "\n",
      "Interpolated DataFrame using 'nearest' method:\n",
      "      A     B\n",
      "0  52.0  60.0\n",
      "1  52.0  41.0\n",
      "2  15.0  29.0\n",
      "\n",
      "\n",
      "Interpolated DataFrame using 'cubic' method:\n",
      "           A     B\n",
      "0  52.000000  60.0\n",
      "1 -26.161287  41.0\n",
      "2  15.000000  29.0\n",
      "\n",
      "\n",
      "Interpolated DataFrame using 'barycentric' method:\n",
      "              A     B\n",
      "0  5.200000e+01  60.0\n",
      "1  1.770563e+16  41.0\n",
      "2  1.500000e+01  29.0\n",
      "\n",
      "\n"
     ]
    }
   ],
   "source": [
    "import pandas as pd\n",
    "import numpy as np\n",
    "\n",
    "# Creating a DataFrame with random NaN values\n",
    "np.random.seed(42)\n",
    "data = {\n",
    "    'A': np.random.randint(1, 100, size=100).astype(float),\n",
    "    'B': np.random.randint(1, 100, size=100).astype(float)\n",
    "}\n",
    "\n",
    "# Introduce random NaN values in the DataFrame\n",
    "for col in data:\n",
    "    mask = np.random.choice([True, False], size=100, p=[0.2, 0.8])\n",
    "    data[col][mask] = np.nan\n",
    "\n",
    "df = pd.DataFrame(data)\n",
    "\n",
    "# Apply different interpolation methods\n",
    "interpolated_methods = ['linear', 'nearest', 'cubic', 'barycentric']\n",
    "interpolated_dfs = {}\n",
    "\n",
    "for method in interpolated_methods:\n",
    "    interpolated_dfs[method] = df.interpolate(method=method)\n",
    "\n",
    "# Display interpolated DataFrames\n",
    "for method, interpolated_df in interpolated_dfs.items():\n",
    "    print(f\"Interpolated DataFrame using '{method}' method:\")\n",
    "    print(interpolated_df.head(3))\n",
    "    print('\\n')\n"
   ]
  }
 ],
 "metadata": {
  "kernelspec": {
   "display_name": "base",
   "language": "python",
   "name": "python3"
  },
  "language_info": {
   "codemirror_mode": {
    "name": "ipython",
    "version": 3
   },
   "file_extension": ".py",
   "mimetype": "text/x-python",
   "name": "python",
   "nbconvert_exporter": "python",
   "pygments_lexer": "ipython3",
   "version": "3.11.4"
  }
 },
 "nbformat": 4,
 "nbformat_minor": 2
}
