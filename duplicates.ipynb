{
 "cells": [
  {
   "cell_type": "code",
   "execution_count": 5,
   "metadata": {},
   "outputs": [
    {
     "name": "stdout",
     "output_type": "stream",
     "text": [
      "Original DataFrame:\n",
      "    Name  Age           City\n",
      "0  Alice   25       New York\n",
      "1    Bob   30  San Francisco\n",
      "2  Alice   25       New York\n",
      "3  David   35    Los Angeles\n",
      "4    Bob   30  San Francisco\n",
      "5  Alice   25         Boston\n",
      "\n",
      "DataFrame after dropping all duplicates:\n",
      "    Name  Age           City\n",
      "0  Alice   25       New York\n",
      "1    Bob   30  San Francisco\n",
      "3  David   35    Los Angeles\n",
      "5  Alice   25         Boston\n",
      "\n",
      "DataFrame after dropping duplicates in columns ['Name', 'Age']:\n",
      "    Name  Age           City\n",
      "0  Alice   25       New York\n",
      "1    Bob   30  San Francisco\n",
      "3  David   35    Los Angeles\n",
      "\n",
      "DataFrame after dropping duplicates in columns ['Name', 'Age'] and keeping the last:\n",
      "    Name  Age           City\n",
      "3  David   35    Los Angeles\n",
      "4    Bob   30  San Francisco\n",
      "5  Alice   25         Boston\n"
     ]
    }
   ],
   "source": [
    "import pandas as pd\n",
    "\n",
    "# Creating a sample DataFrame with duplicate and unique rows\n",
    "data = {\n",
    "    'Name': ['Alice', 'Bob', 'Alice', 'David', 'Bob', 'Alice'],\n",
    "    'Age': [25, 30, 25, 35, 30, 25],\n",
    "    'City': ['New York', 'San Francisco', 'New York', 'Los Angeles', 'San Francisco', 'Boston']\n",
    "}\n",
    "\n",
    "df = pd.DataFrame(data)\n",
    "\n",
    "# Display the original DataFrame\n",
    "print(\"Original DataFrame:\")\n",
    "print(df)\n",
    "\n",
    "# Drop all duplicate rows based on all columns\n",
    "df_all = df.drop_duplicates()\n",
    "print(\"\\nDataFrame after dropping all duplicates:\")\n",
    "print(df_all)\n",
    "\n",
    "# Drop duplicates based on specific columns ['Name', 'Age']\n",
    "df_subset = df.drop_duplicates(subset=['Name', 'Age'])\n",
    "print(\"\\nDataFrame after dropping duplicates in columns ['Name', 'Age']:\")\n",
    "print(df_subset)\n",
    "\n",
    "df_subset_last = df.drop_duplicates(subset=['Name', 'Age'], keep='last')\n",
    "print(\"\\nDataFrame after dropping duplicates in columns ['Name', 'Age'] and keeping the last:\")\n",
    "print(df_subset_last)\n"
   ]
  }
 ],
 "metadata": {
  "kernelspec": {
   "display_name": "base",
   "language": "python",
   "name": "python3"
  },
  "language_info": {
   "codemirror_mode": {
    "name": "ipython",
    "version": 3
   },
   "file_extension": ".py",
   "mimetype": "text/x-python",
   "name": "python",
   "nbconvert_exporter": "python",
   "pygments_lexer": "ipython3",
   "version": "3.11.4"
  }
 },
 "nbformat": 4,
 "nbformat_minor": 2
}
